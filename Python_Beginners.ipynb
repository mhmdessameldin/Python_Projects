{
 "cells": [
  {
   "cell_type": "code",
   "execution_count": 2,
   "id": "d469f858",
   "metadata": {},
   "outputs": [
    {
     "name": "stdout",
     "output_type": "stream",
     "text": [
      "Hello Data Engineering World!\n"
     ]
    }
   ],
   "source": [
    "# Print \"Hello data Engineering world!\"\n",
    "print(\"Hello Data Engineering World!\")"
   ]
  },
  {
   "cell_type": "markdown",
   "id": "235ed21e",
   "metadata": {},
   "source": [
    "# Python Basics\n",
    "    String\n",
    "    Numbers\n",
    "    Data Types & Data structures\n"
   ]
  },
  {
   "cell_type": "markdown",
   "id": "69c5648a",
   "metadata": {},
   "source": [
    "## Creating a string\n",
    "##### To create a string in python you need to use single quotes or double qoutes"
   ]
  },
  {
   "cell_type": "code",
   "execution_count": 3,
   "id": "8e9386fd",
   "metadata": {},
   "outputs": [
    {
     "name": "stdout",
     "output_type": "stream",
     "text": [
      "Hello\n",
      "Hello\n"
     ]
    }
   ],
   "source": [
    "# Single world\n",
    "print(\"Hello\")\n",
    "print('Hello')"
   ]
  },
  {
   "cell_type": "markdown",
   "id": "42c42332",
   "metadata": {},
   "source": [
    "### String Indexing\n",
    "##### In python we use brackets [ ] after an object to call its index. we should know that indexing starts at 0 for python."
   ]
  },
  {
   "cell_type": "code",
   "execution_count": 4,
   "id": "d722d0b0",
   "metadata": {},
   "outputs": [],
   "source": [
    "# Create variable called s as a string\n",
    "s = \"Hello world\""
   ]
  },
  {
   "cell_type": "code",
   "execution_count": 6,
   "id": "31165071",
   "metadata": {},
   "outputs": [
    {
     "name": "stdout",
     "output_type": "stream",
     "text": [
      "Hello world\n",
      "e\n",
      "r\n"
     ]
    }
   ],
   "source": [
    "# print variable s and use index to print letter \"e\" and \"r\"\n",
    "print(s)\n",
    "print(s[1])\n",
    "print(s[8])"
   ]
  },
  {
   "cell_type": "markdown",
   "id": "9bb655da",
   "metadata": {},
   "source": [
    "## String Concatenation and Repetition\n",
    "### Concatenation\n",
    "##### Combine two strings\n",
    "\n",
    "### Repetition\n",
    "##### Repeating string multiple times"
   ]
  },
  {
   "cell_type": "code",
   "execution_count": 7,
   "id": "5a3f50e6",
   "metadata": {},
   "outputs": [
    {
     "name": "stdout",
     "output_type": "stream",
     "text": [
      "Hello world\n"
     ]
    }
   ],
   "source": [
    "# Concatenation (addition)\n",
    "s1 = \"Hello\"\n",
    "s2 = \"world\"\n",
    "print(s1 + \" \" + s2)"
   ]
  },
  {
   "cell_type": "code",
   "execution_count": 9,
   "id": "891abe8d",
   "metadata": {},
   "outputs": [
    {
     "name": "stdout",
     "output_type": "stream",
     "text": [
      "HelloHelloHelloHelloHello\n",
      "Hello Hello Hello Hello Hello \n"
     ]
    }
   ],
   "source": [
    "# Repetition (multiplication)\n",
    "print(\"Hello\" * 5)\n",
    "print((\"Hello\" + \" \") * 5)"
   ]
  },
  {
   "cell_type": "markdown",
   "id": "d1f26c4d",
   "metadata": {},
   "source": [
    "## String Slicing and Indexing\n",
    "### Indexing\n",
    "##### Select the letter at a particular index \\ position\n",
    "### Slicing\n",
    "##### Select a subset of an entir string"
   ]
  },
  {
   "cell_type": "code",
   "execution_count": 14,
   "id": "cb8aa992",
   "metadata": {},
   "outputs": [
    {
     "name": "stdout",
     "output_type": "stream",
     "text": [
      "H\n",
      "Hello\n",
      "world\n"
     ]
    }
   ],
   "source": [
    "s = \"Hello world\"\n",
    "print(s[0])  # indexing\n",
    "print(s[0:5]) # Slicing\n",
    "print(s[-5:])"
   ]
  },
  {
   "cell_type": "code",
   "execution_count": 15,
   "id": "6f32cf60",
   "metadata": {},
   "outputs": [
    {
     "name": "stdout",
     "output_type": "stream",
     "text": [
      "True\n"
     ]
    }
   ],
   "source": [
    "# Test substring membership\n",
    "print(\"wor\" in s)  # \"in\" to check if inside"
   ]
  },
  {
   "cell_type": "markdown",
   "id": "81ea3b9d",
   "metadata": {},
   "source": [
    "## Basic Built-in string methods"
   ]
  },
  {
   "cell_type": "code",
   "execution_count": 16,
   "id": "9b5f3c23",
   "metadata": {},
   "outputs": [
    {
     "name": "stdout",
     "output_type": "stream",
     "text": [
      "HELLO WORLD\n"
     ]
    }
   ],
   "source": [
    "s = \"Hello World\"\n",
    "\n",
    "# Convert all the element to Upper case\n",
    "print(s.upper())"
   ]
  },
  {
   "cell_type": "code",
   "execution_count": 17,
   "id": "2e55a2b2",
   "metadata": {},
   "outputs": [
    {
     "name": "stdout",
     "output_type": "stream",
     "text": [
      "hello world\n"
     ]
    }
   ],
   "source": [
    "# Convert all the element to Lower case\n",
    "print(s.lower())"
   ]
  },
  {
   "cell_type": "code",
   "execution_count": 19,
   "id": "c68fa16d",
   "metadata": {},
   "outputs": [
    {
     "name": "stdout",
     "output_type": "stream",
     "text": [
      "Hello\n"
     ]
    }
   ],
   "source": [
    "print((s[0].upper()) + s[1:5].lower())"
   ]
  },
  {
   "cell_type": "code",
   "execution_count": 22,
   "id": "6e520aaf",
   "metadata": {},
   "outputs": [
    {
     "name": "stdout",
     "output_type": "stream",
     "text": [
      "<class 'str'>\n"
     ]
    }
   ],
   "source": [
    "print(type(s))"
   ]
  },
  {
   "cell_type": "markdown",
   "id": "6bfb692a",
   "metadata": {},
   "source": [
    "## Formatting"
   ]
  },
  {
   "cell_type": "code",
   "execution_count": 23,
   "id": "6c320e02",
   "metadata": {},
   "outputs": [
    {
     "name": "stdout",
     "output_type": "stream",
     "text": [
      "My name is Mohamed. I have 36 years old and I am married\n"
     ]
    }
   ],
   "source": [
    "name = \"Mohamed\"\n",
    "age = 36\n",
    "Status = \"married\"\n",
    "print(f\"My name is {name}. I have {age} years old and I am {Status}\")"
   ]
  },
  {
   "cell_type": "code",
   "execution_count": 24,
   "id": "aeaf19f0",
   "metadata": {},
   "outputs": [
    {
     "name": "stdout",
     "output_type": "stream",
     "text": [
      "My name is Mohamed. I have 36 years old and I am married\n"
     ]
    }
   ],
   "source": [
    "print(\"My name is {}. I have {} years old and I am {}\".format(name, age, Status))"
   ]
  },
  {
   "cell_type": "code",
   "execution_count": 26,
   "id": "8f92cba3",
   "metadata": {},
   "outputs": [
    {
     "name": "stdout",
     "output_type": "stream",
     "text": [
      "My name is Mohamed. I have 36 years old and I am married.\n"
     ]
    }
   ],
   "source": [
    "print(\"My name is %s. I have %s years old and I am %s.\" % (name, age, Status))"
   ]
  },
  {
   "cell_type": "markdown",
   "id": "47708468",
   "metadata": {},
   "source": [
    "## Numbers\n",
    "#### Types of Numbers\n",
    "#### Variable Assignments"
   ]
  },
  {
   "cell_type": "markdown",
   "id": "eb45c555",
   "metadata": {},
   "source": [
    "## Types of Numbers\n",
    "\n",
    "#### Integers\n",
    "    \n",
    "    whole numbers. Positive or Negative\n",
    "#### Floating\n",
    "    Decimal point\n",
    "\n",
    "#### Types>>>>>>>>>>>>Examples\n",
    "##### Integare>>>>>>>>>>>>1, 2, 5\n",
    "##### Floating>>>>>>>>>>>>1.2, 4e5, 4E5"
   ]
  },
  {
   "cell_type": "markdown",
   "id": "c0da388c",
   "metadata": {},
   "source": [
    "### Basic Arithmetic"
   ]
  },
  {
   "cell_type": "code",
   "execution_count": 4,
   "id": "30a281d1",
   "metadata": {},
   "outputs": [
    {
     "name": "stdout",
     "output_type": "stream",
     "text": [
      "3\n",
      "1\n",
      "4\n",
      "1.5\n"
     ]
    }
   ],
   "source": [
    "# Addition\n",
    "print(1+2)\n",
    "\n",
    "# Subtraction\n",
    "print(2-1)\n",
    "\n",
    "# Multiplication\n",
    "print(2*2)\n",
    "\n",
    "# Division\n",
    "print(3/2)"
   ]
  },
  {
   "cell_type": "code",
   "execution_count": 8,
   "id": "086a0784",
   "metadata": {},
   "outputs": [
    {
     "data": {
      "text/plain": [
       "8"
      ]
     },
     "execution_count": 8,
     "metadata": {},
     "output_type": "execute_result"
    }
   ],
   "source": [
    "# Powers\n",
    "2**3 ## 2^3"
   ]
  },
  {
   "cell_type": "code",
   "execution_count": 9,
   "id": "69d6ca7f",
   "metadata": {},
   "outputs": [
    {
     "data": {
      "text/plain": [
       "105"
      ]
     },
     "execution_count": 9,
     "metadata": {},
     "output_type": "execute_result"
    }
   ],
   "source": [
    "2 + 10 * 10 + 3"
   ]
  },
  {
   "cell_type": "code",
   "execution_count": 10,
   "id": "1ae92a3e",
   "metadata": {},
   "outputs": [
    {
     "data": {
      "text/plain": [
       "156"
      ]
     },
     "execution_count": 10,
     "metadata": {},
     "output_type": "execute_result"
    }
   ],
   "source": [
    "(2+10) * (10+3)"
   ]
  },
  {
   "cell_type": "markdown",
   "id": "53b09fcb",
   "metadata": {},
   "source": [
    "## Variable Assignments\n",
    "#### Assign names and create variables. Use single equale sign to assign labels to variables."
   ]
  },
  {
   "cell_type": "code",
   "execution_count": 11,
   "id": "0d2309a9",
   "metadata": {},
   "outputs": [],
   "source": [
    "# Create variable called \"a\" and assign it to 5\n",
    "a = 5"
   ]
  },
  {
   "cell_type": "code",
   "execution_count": 17,
   "id": "7a64d8db",
   "metadata": {},
   "outputs": [
    {
     "data": {
      "text/plain": [
       "10"
      ]
     },
     "execution_count": 17,
     "metadata": {},
     "output_type": "execute_result"
    }
   ],
   "source": [
    "# Check \"a\"\n",
    "a"
   ]
  },
  {
   "cell_type": "code",
   "execution_count": 18,
   "id": "304374c5",
   "metadata": {},
   "outputs": [
    {
     "data": {
      "text/plain": [
       "20"
      ]
     },
     "execution_count": 18,
     "metadata": {},
     "output_type": "execute_result"
    }
   ],
   "source": [
    "# Add 2 variables\n",
    "a + a"
   ]
  },
  {
   "cell_type": "code",
   "execution_count": 19,
   "id": "0229749c",
   "metadata": {},
   "outputs": [],
   "source": [
    "# Change the value of \"a\"\n",
    "a = 10"
   ]
  },
  {
   "cell_type": "code",
   "execution_count": 15,
   "id": "fe4b243a",
   "metadata": {},
   "outputs": [
    {
     "data": {
      "text/plain": [
       "10"
      ]
     },
     "execution_count": 15,
     "metadata": {},
     "output_type": "execute_result"
    }
   ],
   "source": [
    "# Check \"a\"\n",
    "a"
   ]
  },
  {
   "cell_type": "code",
   "execution_count": 20,
   "id": "27c5ab21",
   "metadata": {},
   "outputs": [
    {
     "data": {
      "text/plain": [
       "20"
      ]
     },
     "execution_count": 20,
     "metadata": {},
     "output_type": "execute_result"
    }
   ],
   "source": [
    "# # Add 2 variables\n",
    "a + a"
   ]
  },
  {
   "cell_type": "markdown",
   "id": "bb0c4eaa",
   "metadata": {},
   "source": [
    "## Attention\n",
    "### When create a variable\n",
    "#### 1- Name can not start with a number\n",
    "#### 2- No space in the name, use \"_\"\n",
    "#### 3- Do not use any of these symbole ; % & < > , / "
   ]
  },
  {
   "cell_type": "markdown",
   "id": "075d886b",
   "metadata": {},
   "source": [
    "## Data Types & Data structures\n",
    "#### Most common and important types\n",
    "     1- Single Value\n",
    "         * None\n",
    "         * int : Integers\n",
    "         * Float : Floating point numbers\n",
    "         * bool : boolean values (True, False)\n",
    "         * str : String\n",
    "     2- Multiple Values >>>> list, tuple, set, dict"
   ]
  },
  {
   "cell_type": "code",
   "execution_count": 25,
   "id": "6fe628ac",
   "metadata": {},
   "outputs": [
    {
     "name": "stdout",
     "output_type": "stream",
     "text": [
      "<class 'int'>\n",
      "<class 'float'>\n",
      "<class 'str'>\n",
      "<class 'bool'>\n"
     ]
    }
   ],
   "source": [
    "# Identifying data types\n",
    "a = 42\n",
    "b = 32.5\n",
    "c = \"Hello\"\n",
    "e = True\n",
    "\n",
    "print(type(a))\n",
    "print(type(b))\n",
    "print(type(c))\n",
    "print(type(e))"
   ]
  },
  {
   "cell_type": "markdown",
   "id": "e1f06c94",
   "metadata": {},
   "source": [
    "## List\n",
    "    List constructed with brackets [ ]\n",
    "    Unlike string\n",
    "    Mutable : elements inside a list can be change\n",
    "    List can hold different object types\n",
    "    len() function can tell you how many items are in the list\n",
    "    append() function adding new elements to a list\n",
    "    extend() function adding new list to a list"
   ]
  },
  {
   "cell_type": "code",
   "execution_count": 27,
   "id": "0fb2a1d1",
   "metadata": {},
   "outputs": [],
   "source": [
    "# assign a list to a variable\n",
    "my_list = [1, 2.5, \"Hello\", True]"
   ]
  },
  {
   "cell_type": "code",
   "execution_count": 28,
   "id": "fdd56c66",
   "metadata": {},
   "outputs": [
    {
     "data": {
      "text/plain": [
       "[1, 2.5, 'Hello', True]"
      ]
     },
     "execution_count": 28,
     "metadata": {},
     "output_type": "execute_result"
    }
   ],
   "source": [
    "my_list"
   ]
  },
  {
   "cell_type": "code",
   "execution_count": 29,
   "id": "ebc1e4a4",
   "metadata": {},
   "outputs": [
    {
     "data": {
      "text/plain": [
       "4"
      ]
     },
     "execution_count": 29,
     "metadata": {},
     "output_type": "execute_result"
    }
   ],
   "source": [
    "len(my_list)"
   ]
  },
  {
   "cell_type": "code",
   "execution_count": 30,
   "id": "3ab77fc4",
   "metadata": {},
   "outputs": [
    {
     "data": {
      "text/plain": [
       "list"
      ]
     },
     "execution_count": 30,
     "metadata": {},
     "output_type": "execute_result"
    }
   ],
   "source": [
    "type(my_list)"
   ]
  },
  {
   "cell_type": "code",
   "execution_count": 31,
   "id": "61858018",
   "metadata": {},
   "outputs": [],
   "source": [
    "my_list.append(\"mohamed\")"
   ]
  },
  {
   "cell_type": "code",
   "execution_count": 32,
   "id": "4b81e468",
   "metadata": {},
   "outputs": [
    {
     "data": {
      "text/plain": [
       "[1, 2.5, 'Hello', True, 'mohamed']"
      ]
     },
     "execution_count": 32,
     "metadata": {},
     "output_type": "execute_result"
    }
   ],
   "source": [
    "my_list"
   ]
  },
  {
   "cell_type": "code",
   "execution_count": 33,
   "id": "3d4e6e39",
   "metadata": {},
   "outputs": [],
   "source": [
    "new_list = [False, \"essam\", 777]"
   ]
  },
  {
   "cell_type": "code",
   "execution_count": 34,
   "id": "53ff5b2f",
   "metadata": {},
   "outputs": [],
   "source": [
    "my_list.extend(new_list)"
   ]
  },
  {
   "cell_type": "code",
   "execution_count": 35,
   "id": "271ede4d",
   "metadata": {},
   "outputs": [
    {
     "data": {
      "text/plain": [
       "[1, 2.5, 'Hello', True, 'mohamed', False, 'essam', 777]"
      ]
     },
     "execution_count": 35,
     "metadata": {},
     "output_type": "execute_result"
    }
   ],
   "source": [
    "my_list"
   ]
  },
  {
   "cell_type": "markdown",
   "id": "10bc5477",
   "metadata": {},
   "source": [
    "## Slicing\n",
    "#### syntax for slicing\n",
    "    list_name[start:end:difference between of elements]\n",
    "    list_name[start:end]"
   ]
  },
  {
   "cell_type": "code",
   "execution_count": 47,
   "id": "5e3e3c6a",
   "metadata": {},
   "outputs": [],
   "source": [
    "list_1 = list(range(10))"
   ]
  },
  {
   "cell_type": "code",
   "execution_count": 48,
   "id": "4dac4825",
   "metadata": {},
   "outputs": [
    {
     "name": "stdout",
     "output_type": "stream",
     "text": [
      "[0, 1, 2, 3, 4, 5, 6, 7, 8, 9]\n"
     ]
    }
   ],
   "source": [
    "print(list_1)"
   ]
  },
  {
   "cell_type": "code",
   "execution_count": 50,
   "id": "77500b8e",
   "metadata": {},
   "outputs": [
    {
     "data": {
      "text/plain": [
       "[0, 1, 2, 3, 4, 5, 6, 7, 8, 9]"
      ]
     },
     "execution_count": 50,
     "metadata": {},
     "output_type": "execute_result"
    }
   ],
   "source": [
    "list_1[0:10]"
   ]
  },
  {
   "cell_type": "code",
   "execution_count": 52,
   "id": "ed8c020e",
   "metadata": {},
   "outputs": [
    {
     "data": {
      "text/plain": [
       "[0, 3, 6, 9]"
      ]
     },
     "execution_count": 52,
     "metadata": {},
     "output_type": "execute_result"
    }
   ],
   "source": [
    "list_1[0:10:3]"
   ]
  },
  {
   "cell_type": "code",
   "execution_count": 53,
   "id": "85db151f",
   "metadata": {},
   "outputs": [
    {
     "data": {
      "text/plain": [
       "[4, 5]"
      ]
     },
     "execution_count": 53,
     "metadata": {},
     "output_type": "execute_result"
    }
   ],
   "source": [
    "# elements from index 4 to 6\n",
    "list_1[4:6]"
   ]
  },
  {
   "cell_type": "code",
   "execution_count": null,
   "id": "ad721c7c",
   "metadata": {},
   "outputs": [],
   "source": []
  }
 ],
 "metadata": {
  "kernelspec": {
   "display_name": "Python 3 (ipykernel)",
   "language": "python",
   "name": "python3"
  },
  "language_info": {
   "codemirror_mode": {
    "name": "ipython",
    "version": 3
   },
   "file_extension": ".py",
   "mimetype": "text/x-python",
   "name": "python",
   "nbconvert_exporter": "python",
   "pygments_lexer": "ipython3",
   "version": "3.9.12"
  }
 },
 "nbformat": 4,
 "nbformat_minor": 5
}
